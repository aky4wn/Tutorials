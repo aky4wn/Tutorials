{
 "cells": [
  {
   "cell_type": "markdown",
   "metadata": {},
   "source": [
    "## 1. Variational Inference\n",
    "\n",
    "Variational Inference (VI) is a method for approximating the posterior in Bayesian models. Instead of sampling via Markov Chain Monte Carlo (MCMC) to approximate an intractable posterior, Variational Inference performs optimization. \n",
    "\n",
    "For a restricted set of distributions, Variational Inference finds the distribution in that set that is closest to the true posterior in terms of the KL divergence.  The goal is  to only consider tractable distributions, while still allowing for enough flexibility to obtain a distribution that approximates the true posterior well. \n",
    "\n",
    "Variational inference can be faster than MCMC methods and tends to scale well.  As a result, different forms of Variational Inference are commonly used in modern machine learning methods to perform Bayesian inference. \n",
    "\n",
    "The derivations and layout follow *Pattern Recognition and Machine Learning* by Chris Bishop (https://www.microsoft.com/en-us/research/uploads/prod/2006/01/Bishop-Pattern-Recognition-and-Machine-Learning-2006.pdf)."
   ]
  },
  {
   "cell_type": "markdown",
   "metadata": {},
   "source": [
    "Let $X$ represent the observed variables, and $Z$ represent the latent variables and the parameters.  Let $p$ represent the true posterior and assume that we want to approximate $p$ with a more tractable distribution, $q$. "
   ]
  },
  {
   "cell_type": "markdown",
   "metadata": {},
   "source": [
    "Assuming a form of the approximate posterior, we want to find the  distribution $q$ that is \"closest\" to the true posterior $p$. We can measure the \"closeness\" of distributions in terms of the KL divergence (https://en.wikipedia.org/wiki/Kullback%E2%80%93Leibler_divergence). \n",
    "\n",
    "For a given distribution $q$, we can write the log likelihood of the observed data as:\n",
    "\n",
    "\\begin{aligned}\n",
    "\\log p(x) &= \\sum_z q(z) \\log p(X) \\\\\n",
    "&= \\sum_z q(z) \\log\\left(\\dfrac{p(X, Z)}{p(Z|X)}\\right) \\\\\n",
    "&= \\sum_z q(z) \\log\\left(\\dfrac{p(X, Z)}{p(Z|X)}\\dfrac{q(Z)}{q(Z)}\\right) \\\\\n",
    "&= \\sum_z q(z) \\left(\\log\\left(\\dfrac{p(X, Z)}{q(Z)}\\right) + \\log\\left(\\dfrac{q(Z)}{p(Z|X)}\\right)\\right) \\\\\n",
    "&= \\sum_z q(z) \\left(\\log\\left(\\dfrac{p(X, Z)}{q(Z)}\\right) - \\log\\left(\\dfrac{p(Z|X}{q(Z)}\\right)\\right) \\\\\n",
    "&= \\sum_z q(Z) \\log\\left(\\dfrac{p(X, Z)}{q(Z)}\\right) - \\sum_z q(z) \\log\\left(\\dfrac{p(Z|X)}{q(Z)}\\right) \\\\\n",
    "\\log p(X) &= L(q) + KL(q||p) \\\\\n",
    "L(q) &= \\sum_z q(Z) \\log\\left(\\dfrac{p(X, Z)}{q(Z)}\\right) \\\\\n",
    "KL(q||p) &= - \\sum_z q(Z) \\log\\left(\\dfrac{p(Z|X)}{q(Z)}\\right) \n",
    "\\end{aligned}"
   ]
  },
  {
   "cell_type": "markdown",
   "metadata": {},
   "source": [
    "More generally, we have that \n",
    "\\begin{aligned}\n",
    "\\log p(X) &= L(q) + KL(q||p) \\\\\n",
    "L(q) &= \\int q(Z) \\log\\left(\\dfrac{p(X, Z)}{q(Z)}\\right)dZ \\\\\n",
    "KL(q||p) &= - \\int q(Z) \\log\\left(\\dfrac{p(Z|X)}{q(Z)}\\right)dZ \n",
    "\\end{aligned}"
   ]
  },
  {
   "cell_type": "markdown",
   "metadata": {},
   "source": [
    "We can see that minimizing $KL(q||p)$ is equivalent to maximizing $L(q)$.  That is, for a choice of family of distributions $q$, variational inference finds the specific distribution that maximizes $L(q)$, and is thus the closest member of the approximate family to the true posterior in terms of the KL divergence."
   ]
  },
  {
   "cell_type": "markdown",
   "metadata": {},
   "source": [
    "## 2. Mean Field Approximation\n",
    "\n",
    "The mean field approximation is a common choice to restrict the distributions under consideration in variational inference.  \n",
    "\n",
    "If we partition the elements of $Z$ into $M$ disjoint groups, then the mean field approximation assumes that these distributions factor, that is that:\n",
    "$$q(Z) = \\prod_{i=1}^M q_i(Z_i).$$"
   ]
  },
  {
   "cell_type": "markdown",
   "metadata": {},
   "source": [
    "Then, under the mean field approximation, we can find the distribution of the form above that maximizes the lower bound $L(q)$. (Let $q_j$ be shorthand for $q_j(Z_j)$):\n",
    "\n",
    "\\begin{aligned}\n",
    "L(q) &= \\int q(Z) \\log\\left(\\dfrac{p(X, Z)}{q(Z)}\\right)dZ \\\\ \n",
    "&= \\int \\prod_i q_i \\left(\\log p(X, Z) - \\sum_i \\log q_i\\right)dZ \\\\\n",
    "&= \\int q_j \\prod_{i\\neq j} \\left(\\log p(X, Z) - \\sum_i \\log q_i\\right)dZ \\\\\n",
    "&= \\int q_j \\prod_{i\\neq j} \\log p(X, Z)dZ - \\int q_j \\prod_{i\\neq j}\\sum_i \\log q_i dZ \\\\\n",
    "&= \\int q_j \\left(\\int \\log p(X, Z)\\prod_{i\\neq j}q_i dZ_i\\right)dZ_j - \\int q_j \\log q_j dZ_j + const. \\\\\n",
    "\\end{aligned}"
   ]
  },
  {
   "cell_type": "markdown",
   "metadata": {},
   "source": [
    "Each $\\int q_i dZ_i$ term integrates to 1, since $q_i$ is a proability distribution."
   ]
  },
  {
   "cell_type": "markdown",
   "metadata": {},
   "source": [
    "\\begin{aligned}\n",
    "\\implies L(q) &= \\int q_j \\log \\tilde{p}(X, Z_j)dZ_j - \\int q_j\\log q_j dZ_j \\\\\n",
    "\\log \\tilde{p}(X, Z_j) &= \\mathbb{E}_{i\\neq j} \\left(\\log p(X, Z)\\right) + const. \\\\\n",
    "\\mathbb{E}_{i\\neq j} \\left(\\log p(X, Z)\\right) &= \\int p(X, Z)\\prod_{i\\neq j} q_i dZ_i\n",
    "\\end{aligned}"
   ]
  },
  {
   "cell_type": "markdown",
   "metadata": {},
   "source": [
    "Now, we need to maximize $L(q)$ with respect to $q_j$, while holding all $q_{i\\neq j}$ fixed. This is equivalent to minimizing the KL divergence.\n",
    "\n",
    "This minimum occurs when $q_j(Z_j) = \\tilde{p}(X, Z_j)$.\n",
    "\n",
    "$$\\implies \\log q_j^*(Z_j) = \\mathbb{E}_{i\\neq j} \\left(\\log p(X, Z)\\right) + const.$$\n",
    "\n"
   ]
  },
  {
   "cell_type": "markdown",
   "metadata": {},
   "source": [
    "The normalizing constant is usually determined by inspection.  The optimal form of $q_j^*$ depends on the values of the other $q_{i\\neq j}$, so the $q_i$ are all initalized and then cycled through, one at a time.\n",
    "\n",
    "Since the bound $L(q)$ is convex with respect to each factor $q_i$, convergence is guarenteed."
   ]
  },
  {
   "cell_type": "markdown",
   "metadata": {},
   "source": [
    "Minimizing $KL(q||p)$ leads to distributions $q$ that tend to underestimate the variance of $p$. Likewise, for multimodal posteriors, minimizing $KL(q||p)$ will find one mode."
   ]
  },
  {
   "cell_type": "markdown",
   "metadata": {},
   "source": [
    "## 3. Univariate Gaussian Example\n",
    "\n",
    "As a simple example of Variational Inference in practice, we will find the approximate posteriors of the mean and precision for a univariate Gaussian.\n",
    "\n",
    "The likelihood of the data is:\n",
    "\\begin{aligned}\n",
    "p(x_{1:N} |\\mu, \\tau) &= \\prod_{n=1}^N N(x_n | \\mu, \\tau^{-1}) \\\\\n",
    "&= \\left(\\dfrac{\\tau}{2\\pi}\\right)^{N/2}\\mbox{exp}\\left(-\\dfrac{\\tau}{2} \\sum_{n=1}^N (x_n - \\mu)^2\\right)\n",
    "\\end{aligned}"
   ]
  },
  {
   "cell_type": "markdown",
   "metadata": {},
   "source": [
    "The priors for $\\mu$ and $\\tau$ are:\n",
    "\\begin{aligned}\n",
    "p(\\mu | \\tau) &= N(\\mu | \\mu_0, (\\lambda_0\\tau)^{-1}) \\\\\n",
    "p(\\tau) &= \\mbox{Gamma}(\\tau | a_0, b_0) \\\\\n",
    "\\end{aligned}\n",
    "\n",
    "We will assume a mean-field approximation for the approximate posterior $q$:\n",
    "$$q(\\mu, \\tau) = q_{\\mu}(\\mu)q_{\\tau}(\\tau)$$"
   ]
  },
  {
   "cell_type": "markdown",
   "metadata": {},
   "source": [
    "Then, using the result that\n",
    "$$\\log q_j^*(Z_j) = \\mathbb{E}_{i\\neq j} \\left(\\log p(X, Z)\\right) + const., $$\n",
    "we can find the optimal form of $q$."
   ]
  },
  {
   "cell_type": "markdown",
   "metadata": {},
   "source": [
    "\\begin{aligned}\n",
    "\\log q^*_{\\mu}(\\mu) &= \\mathbb{E}_{\\tau}\\left(\\log p(x_{1:N}|\\mu, \\tau) + \\log p(\\mu |\\tau)\\right) + const. \\\\\n",
    "&= \\mathbb{E}_{\\tau}\\left(-\\dfrac{\\tau}{2}\\sum_{n=1}^N (x_n - \\mu)^2 - \\dfrac{\\lambda_0 \\tau}{2}(\\mu - \\mu_0)^2\\right) + const. \\\\\n",
    "&= -\\dfrac{\\mathbb{E}_{\\tau}(\\tau)}{2}\\left(\\lambda_0(\\mu - \\mu_0)^2 + \\sum_{n=1}^N (x_n - \\mu)^2\\right) + const. \\\\\n",
    "& = -\\dfrac{\\mathbb{E}_{\\tau}(\\tau)}{2}(\\lambda_0 + N)\\left(\\mu - \\dfrac{\\lambda_0\\mu_0 + N\\bar{x}}{\\lambda_0 + N}\\right)^2 + const. \\mbox{ (complete the square)} \\\\\n",
    "\\end{aligned}"
   ]
  },
  {
   "cell_type": "markdown",
   "metadata": {},
   "source": [
    "This is a quadratic form in the exponent, which means that $q^*_{\\mu}$ will be normally distributed:\n",
    "\\begin{aligned}\n",
    "q^*_{\\mu}(\\mu) &= N(\\mu | \\mu_N, \\lambda_N^{-1}) \\\\\n",
    "\\mu_N &= \\dfrac{\\lambda_0\\mu_0 + N\\bar{x}}{\\lambda_0 + N} \\\\\n",
    "\\lambda_N &= (\\lambda_0 + N)\\mathbb{E}(\\tau) \n",
    "\\end{aligned}"
   ]
  },
  {
   "cell_type": "markdown",
   "metadata": {},
   "source": [
    "\\begin{aligned}\n",
    "\\log q^*_{\\tau}(\\tau) &= \\mathbb{E}_{\\mu}\\left(\\log p(x_{1:N} | \\mu, \\tau) + \\log p(\\mu | \\tau)\\right) + \\log p(\\tau) + const. \\\\\n",
    "&= \\mathbb{E}_{\\mu} \\left(\\frac{N}{2}\\log \\tau - \\frac{\\tau}{2}\\sum_{n=1}^N(x_N - \\mu)^2 + \\log\\tau - \\frac{\\lambda_0}{2}(\\mu - \\mu_0)^2\\tau\\right) + (a_0 - 1)\\log\\tau - b_0\\tau + const. \\\\\n",
    "&= \\left(a_0 + \\dfrac{N}{2}\\right)\\log\\tau - \\tau\\left(b_0 + \\dfrac{1}{2} \\mathbb{E}_{\\mu}\\left(\\sum_{n=1}^N (x_n - \\mu)^2 + \\lambda_0(\\mu - \\mu_0)^2\\right)\\right) + const. \\\\\n",
    "\\end{aligned}"
   ]
  },
  {
   "cell_type": "markdown",
   "metadata": {},
   "source": [
    "This is the form of the log of a Gamma distribution.  Therefore, we have that\n",
    "\n",
    "\\begin{aligned}\n",
    "q_{\\tau}(\\tau) &= \\mbox{Gamma}(\\tau | a_N, b_N) \\\\\n",
    "a_N &= a_0 + \\dfrac{N}{2} \\\\\n",
    "b_N &= b_0 + \\dfrac{1}{2} \\mathbb{E}_{\\mu} \\left(\\sum_{n=1}^N (x_n - \\mu)^2 + \\lambda_0(\\mu - \\mu_0)^2\\right)\n",
    "\\end{aligned}\n"
   ]
  },
  {
   "cell_type": "markdown",
   "metadata": {},
   "source": [
    "Then, the parameters $\\mu$ and $\\tau$ can be iteratively updated.  These specific forms of $q_{\\mu}$ and $q_{\\tau}$ were not specifically assumed and arose as a result of conjugate priors and the structure of the likelihood.\n",
    "\n",
    "\\begin{aligned}\n",
    "\\mathbb{E}(\\tau) &= \\dfrac{a_N}{b_N} \\\\\n",
    "\\mathbb{E}(\\mu) &= \\mu_N \\\\\n",
    "\\mathbb{E}(\\mu^2) &= \\mathbb{E}(\\mu)^2 + \\mathbb{V}(\\mu) \\\\\n",
    "&= \\mu_N^2 + \\lambda_N^{-1} \\\\\n",
    "\\mathbb{E}_{\\mu} \\left(\\sum_{n=1}^N (x_N - \\mu)^2 + \\lambda_0(\\mu - \\mu_0)^2\\right) &= \\mathbb{E}(\\mu^2) (N + \\lambda_0) - 2\\mathbb{E}(\\mu)(N\\bar{x} + \\lambda_0\\mu_0) + \\left(\\lambda_0\\mu_0^2 + \\sum_n x_n^2\\right)\n",
    "\\end{aligned}"
   ]
  },
  {
   "cell_type": "code",
   "execution_count": 1,
   "metadata": {},
   "outputs": [],
   "source": [
    "import numpy as np\n",
    "import pandas as pd\n",
    "import matplotlib.pyplot as plt\n",
    "import scipy.stats\n",
    "from scipy.stats import norm"
   ]
  },
  {
   "cell_type": "code",
   "execution_count": 21,
   "metadata": {},
   "outputs": [],
   "source": [
    "## X is the data\n",
    "## mu0, lambda0, a0, b0 are prior hyperparameter values\n",
    "## crit is convergence criteria tolerance\n",
    "def Univariate_VI(X, mu0, lambda0, a0, b0, crit):\n",
    "    N = len(X) ## number of data points \n",
    "    \n",
    "    # Randomly initialize starting values for parameters of q\n",
    "    muN = 0\n",
    "    lambdaN = 1\n",
    "    aN = 1\n",
    "    bN = 1\n",
    "    \n",
    "    # Initialize data structures\n",
    "    ll_old = 10E10\n",
    "    ll_new = 0\n",
    "    converge = 10E10 # current difference in log likelihoods to check for convergence\n",
    "    \n",
    "    while converge > crit:\n",
    "    \n",
    "        ## (1).  Update q(mu)\n",
    "        muN = (lambda0*mu0 + N*np.mean(X))/(lambda0 + N)\n",
    "        lambdaN = (lambda0 + N)*aN/bN\n",
    "        \n",
    "            \n",
    "        ## (2). Update q(tau)\n",
    "        aN = a0 + N/2\n",
    "        Emu2 = muN**2 + 1/lambdaN ## expectation of mu^2\n",
    "        bN = b0 + 0.5*(Emu2*(N+lambda0) - 2*muN*(N*np.mean(X) + lambda0*mu0) + lambda0*mu0**2 + np.sum(X**2))\n",
    "        \n",
    "        \n",
    "        ## Check convergence criteria (log likelihood using posterior mean for parameter values)\n",
    "        ll_new = np.sum(norm(loc = muN, scale = np.sqrt(bN/aN)).pdf(X))\n",
    "        converge = abs(ll_new - ll_old)\n",
    "        ll_old = ll_new\n",
    "        #print(converge)\n",
    "        \n",
    "        \n",
    "    return(muN, lambdaN, aN, bN)"
   ]
  },
  {
   "cell_type": "code",
   "execution_count": 22,
   "metadata": {},
   "outputs": [],
   "source": [
    "## Generate data\n",
    "tau_true = 5\n",
    "mu_true = 2\n",
    "X = np.random.normal(loc = mu_true, scale = np.sqrt(1/tau_true), size = 100)\n",
    "\n",
    "\n",
    "mu0 = 0\n",
    "lambda0 = 1\n",
    "a0 = 1\n",
    "b0 = 1\n",
    "muN, lambdaN, aN, bN = Univariate_VI(X, mu0, lambda0, a0, b0, 0.0001)"
   ]
  },
  {
   "cell_type": "code",
   "execution_count": 23,
   "metadata": {},
   "outputs": [
    {
     "data": {
      "text/plain": [
       "1.998773432892913"
      ]
     },
     "execution_count": 23,
     "metadata": {},
     "output_type": "execute_result"
    }
   ],
   "source": [
    "muN"
   ]
  },
  {
   "cell_type": "code",
   "execution_count": 24,
   "metadata": {},
   "outputs": [
    {
     "data": {
      "text/plain": [
       "3.8705297607077496"
      ]
     },
     "execution_count": 24,
     "metadata": {},
     "output_type": "execute_result"
    }
   ],
   "source": [
    "aN/bN"
   ]
  },
  {
   "cell_type": "code",
   "execution_count": 36,
   "metadata": {},
   "outputs": [],
   "source": [
    "## Simulate values from posterior\n",
    "tau_post = np.random.gamma(shape = aN, scale = bN, size = 1000)\n",
    "mu_post = np.random.normal(muN, lambdaN, size = 1000)\n",
    "X_sim = np.random.normal(mu_post, np.sqrt(1/tau_post))"
   ]
  },
  {
   "cell_type": "code",
   "execution_count": 38,
   "metadata": {},
   "outputs": [
    {
     "data": {
      "image/png": "[encoded data removed]",
      "text/plain": [
       "<Figure size 1152x576 with 1 Axes>"
      ]
     },
     "metadata": {},
     "output_type": "display_data"
    }
   ],
   "source": [
    "plt.figure(figsize = (16,8))\n",
    "plt.hist(X, alpha = 0.5, label = \"Data\")\n",
    "plt.hist(X_sim, alpha = 0.5, label = \"Posterior Draws\")\n",
    "plt.legend(loc = \"upper right\")\n",
    "pass"
   ]
  },
  {
   "cell_type": "markdown",
   "metadata": {},
   "source": [
    "## References\n",
    "\n",
    "*Pattern Recognition and Machine Learning* by Chris Bishop (https://www.microsoft.com/en-us/research/uploads/prod/2006/01/Bishop-Pattern-Recognition-and-Machine-Learning-2006.pdf)."
   ]
  }
 ],
 "metadata": {
  "kernelspec": {
   "display_name": "Python 3",
   "language": "python",
   "name": "python3"
  },
  "language_info": {
   "codemirror_mode": {
    "name": "ipython",
    "version": 3
   },
   "file_extension": ".py",
   "mimetype": "text/x-python",
   "name": "python",
   "nbconvert_exporter": "python",
   "pygments_lexer": "ipython3",
   "version": "3.6.5"
  }
 },
 "nbformat": 4,
 "nbformat_minor": 2
}
